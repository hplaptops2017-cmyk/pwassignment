{
  "nbformat": 4,
  "nbformat_minor": 0,
  "metadata": {
    "colab": {
      "provenance": []
    },
    "kernelspec": {
      "name": "python3",
      "display_name": "Python 3"
    },
    "language_info": {
      "name": "python"
    }
  },
  "cells": [
    {
      "cell_type": "code",
      "execution_count": null,
      "metadata": {
        "id": "Sb166_1i0iOD"
      },
      "outputs": [],
      "source": []
    },
    {
      "cell_type": "markdown",
      "source": [
        "#what is python"
      ],
      "metadata": {
        "id": "b_Z8Dq2W04S3"
      }
    },
    {
      "cell_type": "code",
      "source": [],
      "metadata": {
        "id": "wZR-khSq09un"
      },
      "execution_count": null,
      "outputs": []
    },
    {
      "cell_type": "markdown",
      "source": [
        "python is  CODE LANGUAGE"
      ],
      "metadata": {
        "id": "qzEqJDzM1E17"
      }
    },
    {
      "cell_type": "code",
      "source": [
        "print(\"hello ritik\")\n"
      ],
      "metadata": {
        "colab": {
          "base_uri": "https://localhost:8080/"
        },
        "id": "IwngHKIY1KoK",
        "outputId": "c39c7af0-e9e0-4046-d30b-1823c52df822"
      },
      "execution_count": 1,
      "outputs": [
        {
          "output_type": "stream",
          "name": "stdout",
          "text": [
            "hello ritik\n"
          ]
        }
      ]
    },
    {
      "cell_type": "code",
      "source": [],
      "metadata": {
        "id": "7czUG4U11iuc"
      },
      "execution_count": null,
      "outputs": []
    }
  ]
}